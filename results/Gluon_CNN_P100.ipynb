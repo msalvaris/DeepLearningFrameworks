{
 "cells": [
  {
   "cell_type": "markdown",
   "metadata": {},
   "source": [
    "# High-level Gluon Example"
   ]
  },
  {
   "cell_type": "code",
   "execution_count": 1,
   "metadata": {},
   "outputs": [],
   "source": [
    "import os\n",
    "import sys\n",
    "import numpy as np\n",
    "import math\n",
    "import mxnet as mx\n",
    "from mxnet import nd, autograd\n",
    "from mxnet import gluon\n",
    "import json\n",
    "from common.params import *\n",
    "from common.utils import *"
   ]
  },
  {
   "cell_type": "code",
   "execution_count": 2,
   "metadata": {},
   "outputs": [],
   "source": [
    "ctx = mx.gpu()"
   ]
  },
  {
   "cell_type": "code",
   "execution_count": 3,
   "metadata": {},
   "outputs": [
    {
     "name": "stdout",
     "output_type": "stream",
     "text": [
      "OS:  linux\n",
      "Python:  3.6.4 |Anaconda, Inc.| (default, Jan 16 2018, 18:10:19) \n",
      "[GCC 7.2.0]\n",
      "MXNet:  1.0.0\n",
      "Numpy:  1.14.0\n",
      "GPU:  ['Tesla P100-PCIE-16GB', 'Tesla P100-PCIE-16GB']\n"
     ]
    }
   ],
   "source": [
    "print(\"OS: \", sys.platform)\n",
    "print(\"Python: \", sys.version)\n",
    "print(\"MXNet: \", mx.__version__)\n",
    "print(\"Numpy: \", np.__version__)\n",
    "print(\"GPU: \", get_gpu_name())"
   ]
  },
  {
   "cell_type": "code",
   "execution_count": 4,
   "metadata": {},
   "outputs": [],
   "source": [
    "def SymbolModule():\n",
    "    sym = gluon.nn.Sequential()\n",
    "    with sym.name_scope():\n",
    "        sym.add(gluon.nn.Conv2D(channels=50, kernel_size=3, padding=1, activation='relu'))\n",
    "        sym.add(gluon.nn.Conv2D(channels=50, kernel_size=3, padding=1))\n",
    "        sym.add(gluon.nn.MaxPool2D(pool_size=2, strides=2))\n",
    "        sym.add(gluon.nn.Activation('relu'))\n",
    "        # Equiv to gluon.nn.LeakyReLU(0)\n",
    "        sym.add(gluon.nn.Dropout(0.25))\n",
    "        sym.add(gluon.nn.Conv2D(channels=100, kernel_size=3, padding=1, activation='relu'))\n",
    "        sym.add(gluon.nn.Conv2D(channels=100, kernel_size=3, padding=1))\n",
    "        sym.add(gluon.nn.MaxPool2D(pool_size=2, strides=2))\n",
    "        sym.add(gluon.nn.Activation('relu'))\n",
    "        sym.add(gluon.nn.Dropout(0.25))\n",
    "        sym.add(gluon.nn.Flatten())\n",
    "        sym.add(gluon.nn.Dense(512, activation='relu'))\n",
    "        sym.add(gluon.nn.Dropout(0.25))\n",
    "        sym.add(gluon.nn.Dense(N_CLASSES))\n",
    "    return sym"
   ]
  },
  {
   "cell_type": "code",
   "execution_count": 5,
   "metadata": {},
   "outputs": [],
   "source": [
    "def init_model(m):\n",
    "    trainer = gluon.Trainer(m.collect_params(), 'sgd',\n",
    "                            {'learning_rate': LR, 'momentum':MOMENTUM})\n",
    "    criterion = gluon.loss.SoftmaxCrossEntropyLoss()\n",
    "    return trainer, criterion"
   ]
  },
  {
   "cell_type": "code",
   "execution_count": 6,
   "metadata": {
    "scrolled": true
   },
   "outputs": [
    {
     "name": "stdout",
     "output_type": "stream",
     "text": [
      "Preparing train set...\n",
      "Preparing test set...\n",
      "(50000, 3, 32, 32) (10000, 3, 32, 32) (50000,) (10000,)\n",
      "float32 float32 int32 int32\n",
      "CPU times: user 608 ms, sys: 625 ms, total: 1.23 s\n",
      "Wall time: 1.23 s\n"
     ]
    }
   ],
   "source": [
    "%%time\n",
    "# Data into format for library\n",
    "x_train, x_test, y_train, y_test = cifar_for_library(channel_first=True)\n",
    "\n",
    "print(x_train.shape, x_test.shape, y_train.shape, y_test.shape)\n",
    "print(x_train.dtype, x_test.dtype, y_train.dtype, y_test.dtype)"
   ]
  },
  {
   "cell_type": "code",
   "execution_count": 7,
   "metadata": {},
   "outputs": [
    {
     "name": "stdout",
     "output_type": "stream",
     "text": [
      "CPU times: user 972 ms, sys: 668 ms, total: 1.64 s\n",
      "Wall time: 1.67 s\n"
     ]
    }
   ],
   "source": [
    "%%time\n",
    "sym = SymbolModule()\n",
    "sym.collect_params().initialize(mx.init.Xavier(magnitude=2.24), ctx=ctx)"
   ]
  },
  {
   "cell_type": "code",
   "execution_count": 8,
   "metadata": {},
   "outputs": [
    {
     "name": "stdout",
     "output_type": "stream",
     "text": [
      "CPU times: user 196 µs, sys: 102 µs, total: 298 µs\n",
      "Wall time: 305 µs\n"
     ]
    }
   ],
   "source": [
    "%%time\n",
    "trainer, criterion = init_model(sym)"
   ]
  },
  {
   "cell_type": "code",
   "execution_count": 9,
   "metadata": {},
   "outputs": [
    {
     "name": "stdout",
     "output_type": "stream",
     "text": [
      "Epoch   0: loss: 1.8273\n",
      "Epoch   1: loss: 1.3419\n",
      "Epoch   2: loss: 1.1263\n",
      "Epoch   3: loss: 0.9500\n",
      "Epoch   4: loss: 0.8210\n",
      "Epoch   5: loss: 0.7102\n",
      "Epoch   6: loss: 0.6173\n",
      "Epoch   7: loss: 0.5375\n",
      "Epoch   8: loss: 0.4638\n",
      "Epoch   9: loss: 0.3909\n",
      "Training took 61.066 sec.\n"
     ]
    }
   ],
   "source": [
    "results=dict()\n",
    "with Timer() as t:\n",
    "    # Sets training = True \n",
    "    for j in range(EPOCHS):\n",
    "        train_loss = 0.0\n",
    "        for data, target in yield_mb(x_train, y_train, BATCHSIZE, shuffle=True):\n",
    "            # Get samples\n",
    "            data = nd.array(data).as_in_context(ctx)\n",
    "            target = nd.array(target).as_in_context(ctx)\n",
    "            with autograd.record():\n",
    "                # Forwards\n",
    "                output = sym(data)\n",
    "                # Loss\n",
    "                loss = criterion(output, target)\n",
    "            # Back-prop\n",
    "            loss.backward()\n",
    "            trainer.step(data.shape[0])\n",
    "            train_loss += nd.sum(loss).asscalar()\n",
    "        # Log\n",
    "        print('Epoch %3d: loss: %5.4f'%(j, train_loss/len(x_train)))\n",
    "print('Training took %.03f sec.' % t.interval)\n",
    "results['training duration']=t.interval"
   ]
  },
  {
   "cell_type": "code",
   "execution_count": 10,
   "metadata": {},
   "outputs": [
    {
     "name": "stdout",
     "output_type": "stream",
     "text": [
      "CPU times: user 508 ms, sys: 131 ms, total: 639 ms\n",
      "Wall time: 420 ms\n"
     ]
    }
   ],
   "source": [
    "%%time\n",
    "# Test model\n",
    "n_samples = (y_test.shape[0]//BATCHSIZE)*BATCHSIZE\n",
    "y_guess = np.zeros(n_samples, dtype=np.int)\n",
    "y_truth = y_test[:n_samples]\n",
    "c = 0\n",
    "for data, target in yield_mb(x_test, y_test, BATCHSIZE):\n",
    "    # Get samples\n",
    "    data = nd.array(data).as_in_context(ctx)\n",
    "    # Forwards\n",
    "    output = sym(data)\n",
    "    pred = nd.argmax(output, axis=1)\n",
    "    # Collect results\n",
    "    y_guess[c*BATCHSIZE:(c+1)*BATCHSIZE] = pred.asnumpy()\n",
    "    c += 1"
   ]
  },
  {
   "cell_type": "code",
   "execution_count": 11,
   "metadata": {},
   "outputs": [
    {
     "name": "stdout",
     "output_type": "stream",
     "text": [
      "Accuracy:  0.7593149038461539\n"
     ]
    }
   ],
   "source": [
    "acc=sum(y_guess == y_truth)/float(len(y_guess))\n",
    "print(\"Accuracy: \", acc)\n",
    "results['accuracy']=t.interval"
   ]
  },
  {
   "cell_type": "code",
   "execution_count": 12,
   "metadata": {},
   "outputs": [],
   "source": [
    "with open('gluon_cnn_{}.json'.format(get_gpu_name()[0].split(' ')[1].split('-')[0]), 'w') as f:\n",
    "    json.dump(results, f)"
   ]
  }
 ],
 "metadata": {
  "anaconda-cloud": {},
  "kernelspec": {
   "display_name": "Python 3",
   "language": "python",
   "name": "python3"
  },
  "language_info": {
   "codemirror_mode": {
    "name": "ipython",
    "version": 3
   },
   "file_extension": ".py",
   "mimetype": "text/x-python",
   "name": "python",
   "nbconvert_exporter": "python",
   "pygments_lexer": "ipython3",
   "version": "3.6.4"
  }
 },
 "nbformat": 4,
 "nbformat_minor": 2
}
